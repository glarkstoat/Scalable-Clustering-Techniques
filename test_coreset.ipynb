{
 "metadata": {
  "language_info": {
   "codemirror_mode": {
    "name": "ipython",
    "version": 3
   },
   "file_extension": ".py",
   "mimetype": "text/x-python",
   "name": "python",
   "nbconvert_exporter": "python",
   "pygments_lexer": "ipython3",
   "version": "3.8.5"
  },
  "orig_nbformat": 4,
  "kernelspec": {
   "name": "python3",
   "display_name": "Python 3.8.5 64-bit ('base': conda)"
  },
  "interpreter": {
   "hash": "ed225720166559e7176d3793db16a2fd8d295f725007103b21ac3099d2a89ee8"
  }
 },
 "nbformat": 4,
 "nbformat_minor": 2,
 "cells": [
  {
   "cell_type": "code",
   "execution_count": 1,
   "metadata": {},
   "outputs": [],
   "source": [
    "import numpy as np\n",
    "\n",
    "data = np.genfromtxt(\"data/bio_train.csv\", delimiter=\",\")[:,3:]\n",
    "labels_true = np.genfromtxt(\"data/bio_train.csv\", delimiter=\",\")[:,0]\n"
   ]
  },
  {
   "cell_type": "code",
   "execution_count": 3,
   "metadata": {
    "tags": []
   },
   "outputs": [
    {
     "output_type": "stream",
     "name": "stderr",
     "text": [
      "145750it [00:00, 160871.69it/s]\n",
      "0.9999999999999949\n",
      "(70000, 74)\n",
      "227821\n"
     ]
    }
   ],
   "source": [
    "from Coreset import *\n",
    "\n",
    "coreset = Coreset(data)\n",
    "# print(coreset.X[0])\n",
    "# print(coreset.mu)\n",
    "# print(coreset.X[0] - coreset.mu)\n",
    "coreset.get_q()\n",
    "#print(np.linalg.norm(coreset.X))\n",
    "#print(coreset.q[:10])\n",
    "print(sum(coreset.q))\n",
    "\n",
    "cs, rnd_indices = coreset.get_coreset(70000)\n",
    "print(cs.shape)\n",
    "\n"
   ]
  },
  {
   "cell_type": "code",
   "execution_count": 20,
   "metadata": {},
   "outputs": [
    {
     "output_type": "stream",
     "name": "stdout",
     "text": [
      "epsilon: 0.01, delta: 0.01, m: 569592233\nepsilon: 0.01, delta: 0.11, m: 569568254\nepsilon: 0.01, delta: 0.21, m: 569561787\nepsilon: 0.01, delta: 0.31, m: 569557893\nepsilon: 0.01, delta: 0.41, m: 569555097\nepsilon: 0.01, delta: 0.51, m: 569552914\nepsilon: 0.01, delta: 0.61, m: 569551124\nepsilon: 0.01, delta: 0.71, m: 569549606\nepsilon: 0.01, delta: 0.81, m: 569548288\nepsilon: 0.01, delta: 0.91, m: 569547124\nepsilon: 0.11, delta: 0.01, m: 4707373\nepsilon: 0.11, delta: 0.11, m: 4707175\nepsilon: 0.11, delta: 0.21, m: 4707122\nepsilon: 0.11, delta: 0.31, m: 4707090\nepsilon: 0.11, delta: 0.41, m: 4707066\nepsilon: 0.11, delta: 0.51, m: 4707048\nepsilon: 0.11, delta: 0.61, m: 4707034\nepsilon: 0.11, delta: 0.71, m: 4707021\nepsilon: 0.11, delta: 0.81, m: 4707010\nepsilon: 0.11, delta: 0.91, m: 4707001\nepsilon: 0.21, delta: 0.01, m: 1291592\nepsilon: 0.21, delta: 0.11, m: 1291537\nepsilon: 0.21, delta: 0.21, m: 1291523\nepsilon: 0.21, delta: 0.31, m: 1291514\nepsilon: 0.21, delta: 0.41, m: 1291508\nepsilon: 0.21, delta: 0.51, m: 1291503\nepsilon: 0.21, delta: 0.61, m: 1291499\nepsilon: 0.21, delta: 0.71, m: 1291495\nepsilon: 0.21, delta: 0.81, m: 1291492\nepsilon: 0.21, delta: 0.91, m: 1291490\nepsilon: 0.31, delta: 0.01, m: 592707\nepsilon: 0.31, delta: 0.11, m: 592682\nepsilon: 0.31, delta: 0.21, m: 592676\nepsilon: 0.31, delta: 0.31, m: 592672\nepsilon: 0.31, delta: 0.41, m: 592669\nepsilon: 0.31, delta: 0.51, m: 592666\nepsilon: 0.31, delta: 0.61, m: 592665\nepsilon: 0.31, delta: 0.71, m: 592663\nepsilon: 0.31, delta: 0.81, m: 592662\nepsilon: 0.31, delta: 0.91, m: 592660\nepsilon: 0.41, delta: 0.01, m: 338841\nepsilon: 0.41, delta: 0.11, m: 338827\nepsilon: 0.41, delta: 0.21, m: 338823\nepsilon: 0.41, delta: 0.31, m: 338820\nepsilon: 0.41, delta: 0.41, m: 338819\nepsilon: 0.41, delta: 0.51, m: 338817\nepsilon: 0.41, delta: 0.61, m: 338816\nepsilon: 0.41, delta: 0.71, m: 338815\nepsilon: 0.41, delta: 0.81, m: 338815\nepsilon: 0.41, delta: 0.91, m: 338814\nepsilon: 0.51, delta: 0.01, m: 218989\nepsilon: 0.51, delta: 0.11, m: 218980\nepsilon: 0.51, delta: 0.21, m: 218978\nepsilon: 0.51, delta: 0.31, m: 218976\nepsilon: 0.51, delta: 0.41, m: 218975\nepsilon: 0.51, delta: 0.51, m: 218974\nepsilon: 0.51, delta: 0.61, m: 218973\nepsilon: 0.51, delta: 0.71, m: 218973\nepsilon: 0.51, delta: 0.81, m: 218972\nepsilon: 0.51, delta: 0.91, m: 218972\nepsilon: 0.61, delta: 0.01, m: 153075\nepsilon: 0.61, delta: 0.11, m: 153068\nepsilon: 0.61, delta: 0.21, m: 153066\nepsilon: 0.61, delta: 0.31, m: 153065\nepsilon: 0.61, delta: 0.41, m: 153065\nepsilon: 0.61, delta: 0.51, m: 153064\nepsilon: 0.61, delta: 0.61, m: 153063\nepsilon: 0.61, delta: 0.71, m: 153063\nepsilon: 0.61, delta: 0.81, m: 153063\nepsilon: 0.61, delta: 0.91, m: 153062\nepsilon: 0.71, delta: 0.01, m: 112991\nepsilon: 0.71, delta: 0.11, m: 112987\nepsilon: 0.71, delta: 0.21, m: 112985\nepsilon: 0.71, delta: 0.31, m: 112985\nepsilon: 0.71, delta: 0.41, m: 112984\nepsilon: 0.71, delta: 0.51, m: 112984\nepsilon: 0.71, delta: 0.61, m: 112983\nepsilon: 0.71, delta: 0.71, m: 112983\nepsilon: 0.71, delta: 0.81, m: 112983\nepsilon: 0.71, delta: 0.91, m: 112982\nepsilon: 0.81, delta: 0.01, m: 86814\nepsilon: 0.81, delta: 0.11, m: 86811\nepsilon: 0.81, delta: 0.21, m: 86810\nepsilon: 0.81, delta: 0.31, m: 86809\nepsilon: 0.81, delta: 0.41, m: 86809\nepsilon: 0.81, delta: 0.51, m: 86808\nepsilon: 0.81, delta: 0.61, m: 86808\nepsilon: 0.81, delta: 0.71, m: 86808\nepsilon: 0.81, delta: 0.81, m: 86808\nepsilon: 0.81, delta: 0.91, m: 86807\nepsilon: 0.91, delta: 0.01, m: 68783\nepsilon: 0.91, delta: 0.11, m: 68780\nepsilon: 0.91, delta: 0.21, m: 68779\nepsilon: 0.91, delta: 0.31, m: 68778\nepsilon: 0.91, delta: 0.41, m: 68778\nepsilon: 0.91, delta: 0.51, m: 68778\nepsilon: 0.91, delta: 0.61, m: 68778\nepsilon: 0.91, delta: 0.71, m: 68777\nepsilon: 0.91, delta: 0.81, m: 68777\nepsilon: 0.91, delta: 0.91, m: 68777\nepsilon: 1, delta: 1, m: 56954\n"
     ]
    }
   ],
   "source": [
    "from itertools import product\n",
    "\n",
    "eps = delta = np.arange(0.01, 1, 0.1)\n",
    " \n",
    "for e, d in product(eps, delta):\n",
    "    print(f'epsilon: {e:.2f}, delta: {d:.2f}, m: {coreset.get_m(eps=e, delta=d)}')\n",
    "print(f'epsilon: 1, delta: 1, m: {coreset.get_m(eps=1, delta=1)}')\n"
   ]
  },
  {
   "source": [
    "## Epsilon and Delta Values chosen from the parameter search\n",
    "\n",
    "epsilon, delta\n",
    "(0.6, 0.5)\n",
    "(0.7, 0.2)\n",
    "(0.8, 0.7)\n",
    "(0.9, 0.1)\n",
    "(1, 1)\n"
   ],
   "cell_type": "markdown",
   "metadata": {}
  },
  {
   "cell_type": "code",
   "execution_count": 21,
   "metadata": {},
   "outputs": [
    {
     "output_type": "stream",
     "name": "stdout",
     "text": [
      "epsilon: 0.60, delta: 0.50, m: 158209\nepsilon: 0.70, delta: 0.20, m: 116237\nepsilon: 0.80, delta: 0.70, m: 88992\nepsilon: 0.90, delta: 0.10, m: 70317\nepsilon: 1.00, delta: 1.00, m: 56954\n"
     ]
    }
   ],
   "source": [
    "params = [\n",
    "(0.6, 0.5),\n",
    "(0.7, 0.2),\n",
    "(0.8, 0.7),\n",
    "(0.9, 0.1),\n",
    "(1, 1)]\n",
    "\n",
    "for eps, delta in params:\n",
    "    print(f'epsilon: {eps:.2f}, delta: {delta:.2f}, m: {coreset.get_m(eps=eps, delta=delta)}')"
   ]
  },
  {
   "cell_type": "code",
   "execution_count": null,
   "metadata": {},
   "outputs": [],
   "source": []
  }
 ]
}