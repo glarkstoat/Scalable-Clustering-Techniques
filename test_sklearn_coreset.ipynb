{
 "metadata": {
  "language_info": {
   "codemirror_mode": {
    "name": "ipython",
    "version": 3
   },
   "file_extension": ".py",
   "mimetype": "text/x-python",
   "name": "python",
   "nbconvert_exporter": "python",
   "pygments_lexer": "ipython3",
   "version": "3.8.5"
  },
  "orig_nbformat": 4,
  "kernelspec": {
   "name": "python3",
   "display_name": "Python 3.8.5 64-bit ('base': conda)"
  },
  "interpreter": {
   "hash": "ed225720166559e7176d3793db16a2fd8d295f725007103b21ac3099d2a89ee8"
  }
 },
 "nbformat": 4,
 "nbformat_minor": 2,
 "cells": [
  {
   "cell_type": "code",
   "execution_count": 1,
   "metadata": {},
   "outputs": [],
   "source": [
    "from sklearn.cluster import KMeans\n",
    "from Coreset import *\n",
    "from sklearn.preprocessing import MinMaxScaler\n",
    "from sklearn.metrics import normalized_mutual_info_score as NMI\n",
    "import numpy as np\n",
    "from tqdm import tqdm\n",
    "import time"
   ]
  },
  {
   "cell_type": "code",
   "execution_count": 2,
   "metadata": {},
   "outputs": [],
   "source": [
    "data = np.genfromtxt(\"data/bio_train.csv\", delimiter=\",\")[:,3:]\n",
    "data = MinMaxScaler().fit_transform(data)\n",
    "labels_true = np.genfromtxt(\"data/bio_train.csv\", delimiter=\",\")[:,0]"
   ]
  },
  {
   "cell_type": "code",
   "execution_count": 11,
   "metadata": {},
   "outputs": [
    {
     "output_type": "stream",
     "name": "stderr",
     "text": [
      "  0%|          | 0/5 [00:00<?, ?it/s]\n",
      "0it [00:00, ?it/s]\u001b[A\n",
      "8679it [00:00, 86357.09it/s]\u001b[A\n",
      "16522it [00:00, 83682.19it/s]\u001b[A\n",
      "30712it [00:00, 95331.48it/s]\u001b[A\n",
      "47353it [00:00, 109234.69it/s]\u001b[A\n",
      "59813it [00:00, 113276.37it/s]\u001b[A\n",
      "72621it [00:00, 117183.93it/s]\u001b[A\n",
      "88933it [00:00, 127997.32it/s]\u001b[A\n",
      "104381it [00:00, 134760.78it/s]\u001b[A\n",
      "121047it [00:00, 142970.03it/s]\u001b[A\n",
      "145750it [00:01, 138414.22it/s]\n",
      " 20%|██        | 1/5 [01:10<04:43, 70.77s/it]\n",
      "0it [00:00, ?it/s]\u001b[A\n",
      "6009it [00:00, 59792.26it/s]\u001b[A\n",
      "13248it [00:00, 63003.45it/s]\u001b[A\n",
      "28417it [00:00, 76346.97it/s]\u001b[A\n",
      "45653it [00:00, 91665.50it/s]\u001b[A\n",
      "63443it [00:00, 107167.18it/s]\u001b[A\n",
      "79165it [00:00, 118483.12it/s]\u001b[A\n",
      "95082it [00:00, 128323.60it/s]\u001b[A\n",
      "109196it [00:00, 129734.75it/s]\u001b[A\n",
      "125097it [00:00, 137141.51it/s]\u001b[A\n",
      "145750it [00:01, 137694.97it/s]\n",
      " 40%|████      | 2/5 [02:22<03:33, 71.04s/it]\n",
      "0it [00:00, ?it/s]\u001b[A\n",
      "5624it [00:00, 55961.07it/s]\u001b[A\n",
      "14101it [00:00, 62314.20it/s]\u001b[A\n",
      "30035it [00:00, 76241.76it/s]\u001b[A\n",
      "46861it [00:00, 91131.33it/s]\u001b[A\n",
      "62003it [00:00, 103492.96it/s]\u001b[A\n",
      "78465it [00:00, 116343.55it/s]\u001b[A\n",
      "95090it [00:00, 127711.02it/s]\u001b[A\n",
      "113182it [00:00, 139906.70it/s]\u001b[A\n",
      "145750it [00:01, 144736.95it/s]\n",
      " 60%|██████    | 3/5 [03:37<02:24, 72.11s/it]\n",
      "0it [00:00, ?it/s]\u001b[A\n",
      "5956it [00:00, 59264.74it/s]\u001b[A\n",
      "13134it [00:00, 62535.76it/s]\u001b[A\n",
      "26208it [00:00, 74138.69it/s]\u001b[A\n",
      "42641it [00:00, 88751.92it/s]\u001b[A\n",
      "59470it [00:00, 103414.70it/s]\u001b[A\n",
      "76787it [00:00, 117509.85it/s]\u001b[A\n",
      "92664it [00:00, 127292.56it/s]\u001b[A\n",
      "110352it [00:00, 138981.34it/s]\u001b[A\n",
      "127755it [00:00, 147918.26it/s]\u001b[A\n",
      "145750it [00:01, 143525.25it/s]\n",
      " 80%|████████  | 4/5 [04:51<01:12, 72.83s/it]\n",
      "0it [00:00, ?it/s]\u001b[A\n",
      "6383it [00:00, 63513.43it/s]\u001b[A\n",
      "14861it [00:00, 68681.86it/s]\u001b[A\n",
      "31307it [00:00, 83221.83it/s]\u001b[A\n",
      "47049it [00:00, 96838.13it/s]\u001b[A\n",
      "63675it [00:00, 110595.57it/s]\u001b[A\n",
      "77941it [00:00, 118591.71it/s]\u001b[A\n",
      "94260it [00:00, 129030.11it/s]\u001b[A\n",
      "110148it [00:00, 136736.64it/s]\u001b[A\n",
      "127413it [00:00, 145653.21it/s]\u001b[A\n",
      "145750it [00:01, 142056.56it/s]\n",
      "100%|██████████| 5/5 [06:02<00:00, 72.45s/it]0.19978132675119847\n",
      "144.2\n",
      "\n"
     ]
    }
   ],
   "source": [
    "ms = [145750, 112991, 86814, 68783, 56954]\n",
    "\n",
    "for m in tqdm(ms):\n",
    "\n",
    "    nmis = []\n",
    "    iters = []\n",
    "    start = time.time()\n",
    "\n",
    "    for _ in range(10):\n",
    "        cs = Coreset(data)\n",
    "        cs.get_q()\n",
    "        coreset, rnd_labels = cs.get_coreset(m)\n",
    "\n",
    "        kmeans = KMeans(n_clusters=153)\n",
    "        kmeans.fit(data[rnd_labels], sample_weight=cs.weights)\n",
    "        predict = kmeans.predict(data)\n",
    "        nmis.append(NMI(labels_true, predict))\n",
    "        iters.append(kmeans.n_iter_)\n",
    "\n",
    "    print(f'\\n----Results for Coreset Test using size {m}----\\n')\n",
    "    print(f'Average Accuracy over 10 runs: {np.mean(nmis):.3f}')\n",
    "    print(f'Variance over 10 runs: {np.var(nmis):.3f}')\n",
    "    print(f'Average number of iterations: {np.mean(iters)}')\n",
    "    print(f'Time taken: {time.time() - start:.3f}s')\n"
   ]
  },
  {
   "cell_type": "code",
   "execution_count": null,
   "metadata": {},
   "outputs": [],
   "source": []
  }
 ]
}