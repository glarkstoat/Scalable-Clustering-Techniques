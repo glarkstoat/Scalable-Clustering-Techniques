{
 "metadata": {
  "language_info": {
   "codemirror_mode": {
    "name": "ipython",
    "version": 3
   },
   "file_extension": ".py",
   "mimetype": "text/x-python",
   "name": "python",
   "nbconvert_exporter": "python",
   "pygments_lexer": "ipython3",
   "version": "3.8.5"
  },
  "orig_nbformat": 4,
  "kernelspec": {
   "name": "python3",
   "display_name": "Python 3.8.5 64-bit ('base': conda)"
  },
  "interpreter": {
   "hash": "ed225720166559e7176d3793db16a2fd8d295f725007103b21ac3099d2a89ee8"
  }
 },
 "nbformat": 4,
 "nbformat_minor": 2,
 "cells": [
  {
   "cell_type": "code",
   "execution_count": 1,
   "metadata": {},
   "outputs": [],
   "source": [
    "import numpy as np\n",
    "\n",
    "data = np.genfromtxt(\"data/bio_train.csv\", delimiter=\",\")[:,3:]\n",
    "labels_true = np.genfromtxt(\"data/bio_train.csv\", delimiter=\",\")[:,0]\n"
   ]
  },
  {
   "cell_type": "code",
   "execution_count": 3,
   "metadata": {
    "tags": []
   },
   "outputs": [
    {
     "output_type": "stream",
     "name": "stderr",
     "text": [
      "145750it [00:00, 159029.06it/s]\n",
      "0.9999999999999949\n",
      "443049.9661451954\n",
      "(70000, 74)\n"
     ]
    }
   ],
   "source": [
    "from Coreset import *\n",
    "\n",
    "coreset = Coreset(data)\n",
    "# print(coreset.X[0])\n",
    "# print(coreset.mu)\n",
    "# print(coreset.X[0] - coreset.mu)\n",
    "coreset.get_q()\n",
    "#print(np.linalg.norm(coreset.X))\n",
    "#print(coreset.q[:10])\n",
    "print(sum(coreset.q))\n",
    "\n",
    "cs, rnd_indices = coreset.get_coreset(70000)\n",
    "print(cs.shape)"
   ]
  },
  {
   "cell_type": "code",
   "execution_count": null,
   "metadata": {},
   "outputs": [],
   "source": []
  }
 ]
}