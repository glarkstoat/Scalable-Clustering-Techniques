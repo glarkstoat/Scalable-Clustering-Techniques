{
 "metadata": {
  "language_info": {
   "codemirror_mode": {
    "name": "ipython",
    "version": 3
   },
   "file_extension": ".py",
   "mimetype": "text/x-python",
   "name": "python",
   "nbconvert_exporter": "python",
   "pygments_lexer": "ipython3",
   "version": "3.8.8"
  },
  "orig_nbformat": 4,
  "kernelspec": {
   "name": "python3",
   "display_name": "Python 3.8.8 64-bit ('data-mining': conda)"
  },
  "interpreter": {
   "hash": "7d9b24d1ab2d8b20d1ee9bed1f3718ee916b0611a2200b38b6fa317130e3453e"
  }
 },
 "nbformat": 4,
 "nbformat_minor": 2,
 "cells": [
  {
   "cell_type": "code",
   "execution_count": 1,
   "metadata": {},
   "outputs": [],
   "source": [
    "import numpy as np\n",
    "from tqdm import tqdm\n",
    "from Coreset import *\n",
    "from Kmeans import *\n",
    "from sklearn.metrics import normalized_mutual_info_score as NMI"
   ]
  },
  {
   "cell_type": "code",
   "execution_count": 2,
   "metadata": {},
   "outputs": [],
   "source": [
    "data = np.genfromtxt(\"data/bio_train.csv\", delimiter=\",\")[:,3:]\n",
    "labels_true = np.genfromtxt(\"data/bio_train.csv\", delimiter=\",\")[:,0]"
   ]
  },
  {
   "cell_type": "code",
   "execution_count": 3,
   "metadata": {
    "tags": []
   },
   "outputs": [
    {
     "output_type": "stream",
     "name": "stderr",
     "text": [
      "145750it [00:00, -146454.28it/s]\n",
      "0.9999999999999949\n",
      "(70000, 74)\n"
     ]
    }
   ],
   "source": [
    "coreset = Coreset(data)\n",
    "# print(coreset.X[0])\n",
    "# print(coreset.mu)\n",
    "# print(coreset.X[0] - coreset.mu)\n",
    "coreset.get_q()\n",
    "#print(np.linalg.norm(coreset.X))\n",
    "#print(coreset.q[:10])\n",
    "print(sum(coreset.q))\n",
    "\n",
    "cs, rnd_indices = coreset.get_coreset(70000)\n",
    "print(cs.shape)"
   ]
  },
  {
   "cell_type": "code",
   "execution_count": 4,
   "metadata": {},
   "outputs": [
    {
     "output_type": "stream",
     "name": "stdout",
     "text": [
      "epsilon: 0.01, delta: 0.01, m: 569592233\nepsilon: 0.01, delta: 0.11, m: 569568254\nepsilon: 0.01, delta: 0.21, m: 569561787\nepsilon: 0.01, delta: 0.31, m: 569557893\nepsilon: 0.01, delta: 0.41, m: 569555097\nepsilon: 0.01, delta: 0.51, m: 569552914\nepsilon: 0.01, delta: 0.61, m: 569551124\nepsilon: 0.01, delta: 0.71, m: 569549606\nepsilon: 0.01, delta: 0.81, m: 569548288\nepsilon: 0.01, delta: 0.91, m: 569547124\nepsilon: 0.11, delta: 0.01, m: 4707373\nepsilon: 0.11, delta: 0.11, m: 4707175\nepsilon: 0.11, delta: 0.21, m: 4707122\nepsilon: 0.11, delta: 0.31, m: 4707090\nepsilon: 0.11, delta: 0.41, m: 4707066\nepsilon: 0.11, delta: 0.51, m: 4707048\nepsilon: 0.11, delta: 0.61, m: 4707034\nepsilon: 0.11, delta: 0.71, m: 4707021\nepsilon: 0.11, delta: 0.81, m: 4707010\nepsilon: 0.11, delta: 0.91, m: 4707001\nepsilon: 0.21, delta: 0.01, m: 1291592\nepsilon: 0.21, delta: 0.11, m: 1291537\nepsilon: 0.21, delta: 0.21, m: 1291523\nepsilon: 0.21, delta: 0.31, m: 1291514\nepsilon: 0.21, delta: 0.41, m: 1291508\nepsilon: 0.21, delta: 0.51, m: 1291503\nepsilon: 0.21, delta: 0.61, m: 1291499\nepsilon: 0.21, delta: 0.71, m: 1291495\nepsilon: 0.21, delta: 0.81, m: 1291492\nepsilon: 0.21, delta: 0.91, m: 1291490\nepsilon: 0.31, delta: 0.01, m: 592707\nepsilon: 0.31, delta: 0.11, m: 592682\nepsilon: 0.31, delta: 0.21, m: 592676\nepsilon: 0.31, delta: 0.31, m: 592672\nepsilon: 0.31, delta: 0.41, m: 592669\nepsilon: 0.31, delta: 0.51, m: 592666\nepsilon: 0.31, delta: 0.61, m: 592665\nepsilon: 0.31, delta: 0.71, m: 592663\nepsilon: 0.31, delta: 0.81, m: 592662\nepsilon: 0.31, delta: 0.91, m: 592660\nepsilon: 0.41, delta: 0.01, m: 338841\nepsilon: 0.41, delta: 0.11, m: 338827\nepsilon: 0.41, delta: 0.21, m: 338823\nepsilon: 0.41, delta: 0.31, m: 338820\nepsilon: 0.41, delta: 0.41, m: 338819\nepsilon: 0.41, delta: 0.51, m: 338817\nepsilon: 0.41, delta: 0.61, m: 338816\nepsilon: 0.41, delta: 0.71, m: 338815\nepsilon: 0.41, delta: 0.81, m: 338815\nepsilon: 0.41, delta: 0.91, m: 338814\nepsilon: 0.51, delta: 0.01, m: 218989\nepsilon: 0.51, delta: 0.11, m: 218980\nepsilon: 0.51, delta: 0.21, m: 218978\nepsilon: 0.51, delta: 0.31, m: 218976\nepsilon: 0.51, delta: 0.41, m: 218975\nepsilon: 0.51, delta: 0.51, m: 218974\nepsilon: 0.51, delta: 0.61, m: 218973\nepsilon: 0.51, delta: 0.71, m: 218973\nepsilon: 0.51, delta: 0.81, m: 218972\nepsilon: 0.51, delta: 0.91, m: 218972\nepsilon: 0.61, delta: 0.01, m: 153075\nepsilon: 0.61, delta: 0.11, m: 153068\nepsilon: 0.61, delta: 0.21, m: 153066\nepsilon: 0.61, delta: 0.31, m: 153065\nepsilon: 0.61, delta: 0.41, m: 153065\nepsilon: 0.61, delta: 0.51, m: 153064\nepsilon: 0.61, delta: 0.61, m: 153063\nepsilon: 0.61, delta: 0.71, m: 153063\nepsilon: 0.61, delta: 0.81, m: 153063\nepsilon: 0.61, delta: 0.91, m: 153062\nepsilon: 0.71, delta: 0.01, m: 112991\nepsilon: 0.71, delta: 0.11, m: 112987\nepsilon: 0.71, delta: 0.21, m: 112985\nepsilon: 0.71, delta: 0.31, m: 112985\nepsilon: 0.71, delta: 0.41, m: 112984\nepsilon: 0.71, delta: 0.51, m: 112984\nepsilon: 0.71, delta: 0.61, m: 112983\nepsilon: 0.71, delta: 0.71, m: 112983\nepsilon: 0.71, delta: 0.81, m: 112983\nepsilon: 0.71, delta: 0.91, m: 112982\nepsilon: 0.81, delta: 0.01, m: 86814\nepsilon: 0.81, delta: 0.11, m: 86811\nepsilon: 0.81, delta: 0.21, m: 86810\nepsilon: 0.81, delta: 0.31, m: 86809\nepsilon: 0.81, delta: 0.41, m: 86809\nepsilon: 0.81, delta: 0.51, m: 86808\nepsilon: 0.81, delta: 0.61, m: 86808\nepsilon: 0.81, delta: 0.71, m: 86808\nepsilon: 0.81, delta: 0.81, m: 86808\nepsilon: 0.81, delta: 0.91, m: 86807\nepsilon: 0.91, delta: 0.01, m: 68783\nepsilon: 0.91, delta: 0.11, m: 68780\nepsilon: 0.91, delta: 0.21, m: 68779\nepsilon: 0.91, delta: 0.31, m: 68778\nepsilon: 0.91, delta: 0.41, m: 68778\nepsilon: 0.91, delta: 0.51, m: 68778\nepsilon: 0.91, delta: 0.61, m: 68778\nepsilon: 0.91, delta: 0.71, m: 68777\nepsilon: 0.91, delta: 0.81, m: 68777\nepsilon: 0.91, delta: 0.91, m: 68777\nepsilon: 1, delta: 1, m: 56954\n"
     ]
    }
   ],
   "source": [
    "from itertools import product\n",
    "\n",
    "eps = delta = np.arange(0.01, 1, 0.1)\n",
    " \n",
    "for e, d in product(eps, delta):\n",
    "    print(f'epsilon: {e:.2f}, delta: {d:.2f}, m: {coreset.get_m(eps=e, delta=d)}')\n",
    "print(f'epsilon: 1, delta: 1, m: {coreset.get_m(eps=1, delta=1)}')\n"
   ]
  },
  {
   "source": [
    "## Epsilon and Delta Values chosen from the parameter search\n",
    "\n",
    "epsilon, delta\n",
    "(0.6, 0.5)\n",
    "(0.7, 0.2)\n",
    "(0.8, 0.7)\n",
    "(0.9, 0.1)\n",
    "(1, 1)\n"
   ],
   "cell_type": "markdown",
   "metadata": {}
  },
  {
   "cell_type": "code",
   "execution_count": 5,
   "metadata": {},
   "outputs": [
    {
     "output_type": "stream",
     "name": "stdout",
     "text": [
      "epsilon: 0.60, delta: 0.50, m: 158209\nepsilon: 0.70, delta: 0.20, m: 116237\nepsilon: 0.80, delta: 0.70, m: 88992\nepsilon: 0.90, delta: 0.10, m: 70317\nepsilon: 1.00, delta: 1.00, m: 56954\n"
     ]
    }
   ],
   "source": [
    "params = [\n",
    "(0.6, 0.5),\n",
    "(0.7, 0.2),\n",
    "(0.8, 0.7),\n",
    "(0.9, 0.1),\n",
    "(1, 1)]\n",
    "\n",
    "for eps, delta in params:\n",
    "    print(f'epsilon: {eps:.2f}, delta: {delta:.2f}, m: {coreset.get_m(eps=eps, delta=delta)}')"
   ]
  },
  {
   "cell_type": "markdown",
   "metadata": {
    "pycharm": {
     "name": "#%% md\n"
    }
   },
   "source": [
    "KMeans with Coreset + KMeans with obtained values"
   ]
  },
  {
   "cell_type": "code",
   "execution_count": 6,
   "outputs": [
    {
     "output_type": "stream",
     "name": "stderr",
     "text": [
      "145750it [00:01, 115549.52it/s]\n",
      " 88%|████████▊ | 263/300 [09:57<01:24,  2.27s/it]\n",
      "Kmeans converged. Exiting loop.\n",
      "\n",
      "\n",
      "  0%|          | 0/300 [00:00<?, ?it/s]NMI KMeans+Coreset(218972) with true value: 0.22348104951435777\n",
      "100%|██████████| 300/300 [07:29<00:00,  1.50s/it]\n",
      "12667it [00:00, 126663.48it/s]NMI KMeans with custom center and true value: 0.15960047053354545\n",
      "---------------------------------------------------------------\n",
      "145750it [00:01, 134233.80it/s]\n",
      "100%|██████████| 300/300 [07:53<00:00,  1.58s/it]\n",
      "  0%|          | 0/300 [00:00<?, ?it/s]NMI KMeans+Coreset(153075) with true value: 0.22261844719041582\n",
      "100%|██████████| 300/300 [07:33<00:00,  1.51s/it]\n",
      "11132it [00:00, 111314.27it/s]NMI KMeans with custom center and true value: 0.1601649409320816\n",
      "---------------------------------------------------------------\n",
      "145750it [00:01, 131049.89it/s]\n",
      "100%|██████████| 300/300 [05:44<00:00,  1.15s/it]\n",
      "  0%|          | 0/300 [00:00<?, ?it/s]NMI KMeans+Coreset(112991) with true value: 0.23046951458454976\n",
      "100%|██████████| 300/300 [09:13<00:00,  1.85s/it]\n",
      "6897it [00:00, 68958.89it/s]NMI KMeans with custom center and true value: 0.15918637817836773\n",
      "---------------------------------------------------------------\n",
      "145750it [00:01, 78576.00it/s]\n",
      " 46%|████▋     | 139/300 [02:45<03:12,  1.19s/it]\n",
      "  0%|          | 0/300 [00:00<?, ?it/s]\n",
      "Kmeans converged. Exiting loop.\n",
      "\n",
      "NMI KMeans+Coreset(86814) with true value: 0.24481132149239573\n",
      "100%|██████████| 300/300 [09:53<00:00,  1.98s/it]\n",
      "9220it [00:00, 92169.98it/s]NMI KMeans with custom center and true value: 0.15922370562392774\n",
      "---------------------------------------------------------------\n",
      "145750it [00:01, 123092.94it/s]\n",
      " 76%|███████▌  | 228/300 [02:34<00:48,  1.48it/s]\n",
      "  0%|          | 0/300 [00:00<?, ?it/s]\n",
      "Kmeans converged. Exiting loop.\n",
      "\n",
      "NMI KMeans+Coreset(68783) with true value: 0.23584462056963867\n",
      "100%|██████████| 300/300 [07:22<00:00,  1.48s/it]\n",
      "8759it [00:00, 87584.03it/s]NMI KMeans with custom center and true value: 0.15756188804463486\n",
      "---------------------------------------------------------------\n",
      "145750it [00:01, 117931.99it/s]\n",
      "100%|██████████| 300/300 [02:43<00:00,  1.84it/s]\n",
      "  0%|          | 0/300 [00:00<?, ?it/s]NMI KMeans+Coreset(56954) with true value: 0.250723822951653\n",
      "100%|██████████| 300/300 [07:12<00:00,  1.44s/it]NMI KMeans with custom center and true value: 0.15495629732989602\n",
      "---------------------------------------------------------------\n",
      "\n"
     ]
    }
   ],
   "source": [
    "coreset_sizes = [218972,153075,112991,86814,68783,56954]\n",
    "for coreset_size in coreset_sizes:\n",
    "    coreset = Coreset(data)\n",
    "    coreset.get_q()\n",
    "    cs, ind = coreset.get_coreset(coreset_size)\n",
    "\n",
    "    model = Kmeans(k=153, max_iters=300)\n",
    "    model.fit(cs)\n",
    "    print(f\"NMI KMeans+Coreset({coreset_size}) with true value: {NMI(labels_true[ind], model.labels_)}\")\n",
    "\n",
    "    model_next = Kmeans(k=153, max_iters=300)\n",
    "    model_next.fit(data, cluster_initialization=ClusterInitialization.custom, custom_cluster_centers=model.centers)\n",
    "    print(f\"NMI KMeans with custom center and true value: {NMI(labels_true, model_next.labels_)}\")\n",
    "    print('---------------------------------------------------------------')"
   ],
   "metadata": {
    "collapsed": false,
    "pycharm": {
     "name": "#%%\n"
    }
   }
  }
 ]
}